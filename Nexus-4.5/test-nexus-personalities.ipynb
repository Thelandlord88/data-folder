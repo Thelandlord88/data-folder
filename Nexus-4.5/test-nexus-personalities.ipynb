{
 "cells": [
  {
   "cell_type": "markdown",
   "id": "be452aae",
   "metadata": {},
   "source": [
    "# NEXUS Personality Testing Notebook\n",
    "\n",
    "**Purpose:** Interactive testing and analysis of NEXUS-4.5 personalities\n",
    "\n",
    "**Capabilities:**\n",
    "- Test individual personalities\n",
    "- Compare personality combinations\n",
    "- Visualize synergy scores\n",
    "- Analyze trait patterns\n",
    "- Generate insights"
   ]
  },
  {
   "cell_type": "code",
   "execution_count": null,
   "id": "536d46a5",
   "metadata": {},
   "outputs": [],
   "source": [
    "# Setup and imports\n",
    "import requests\n",
    "import json\n",
    "import pandas as pd\n",
    "import matplotlib.pyplot as plt\n",
    "import seaborn as sns\n",
    "from typing import Dict, List\n",
    "\n",
    "# Configure visualization\n",
    "plt.style.use('seaborn-v0_8-darkgrid')\n",
    "sns.set_palette('husl')\n",
    "\n",
    "# NEXUS API endpoint\n",
    "NEXUS_URL = 'http://localhost:8080'\n",
    "\n",
    "print('✅ Environment ready!')"
   ]
  },
  {
   "cell_type": "markdown",
   "id": "27dacbb3",
   "metadata": {},
   "source": [
    "## 1. Check NEXUS Status"
   ]
  },
  {
   "cell_type": "code",
   "execution_count": null,
   "id": "33901e04",
   "metadata": {},
   "outputs": [],
   "source": [
    "# Get NEXUS status\n",
    "response = requests.get(f'{NEXUS_URL}/status')\n",
    "status = response.json()\n",
    "\n",
    "print(f\"🚀 NEXUS Status: {'✅ Running' if status['initialized'] else '❌ Down'}\")\n",
    "print(f\"⏱️  Uptime: {status['uptime']}\")\n",
    "print(f\"🎭 Personalities Loaded: {status['personalitySystem']['totalPersonalities']}/45\")\n",
    "print(f\"🧬 Total Traits: {status['traitComposition']['totalTraits']}\")\n",
    "print(f\"💾 Memory Usage: {status['loaderHealth']['memoryUsageMB']:.2f} MB\")\n",
    "print(f\"🔄 Circuit Breaker: {status['loaderHealth']['circuitBreakerState']}\")"
   ]
  },
  {
   "cell_type": "markdown",
   "id": "8f1b1b02",
   "metadata": {},
   "source": [
    "## 2. Test Individual Personalities"
   ]
  },
  {
   "cell_type": "code",
   "execution_count": null,
   "id": "877775fe",
   "metadata": {},
   "outputs": [],
   "source": [
    "def test_personality(request: str, max_traits: int = 5) -> Dict:\n",
    "    \"\"\"Test NEXUS with a specific request\"\"\"\n",
    "    response = requests.post(f'{NEXUS_URL}/enhance', json={\n",
    "        'mode': 'COMPOSE',\n",
    "        'request': request,\n",
    "        'maxTraits': max_traits\n",
    "    })\n",
    "    return response.json()\n",
    "\n",
    "# Test Pythonista\n",
    "print(\"🐍 Testing Pythonista Activation...\")\n",
    "result = test_personality('Optimize Python code using async/await patterns', 5)\n",
    "\n",
    "print(f\"\\n✅ Activated: {result['response']['personalityUsed']}\")\n",
    "print(f\"🎯 Synergy: {result['response']['synergyScore']*100:.0f}%\")\n",
    "print(f\"💪 Confidence: {result['response']['confidenceScore']*100:.0f}%\")\n",
    "print(f\"\\n🧬 Traits:\")\n",
    "for trait in result['response']['traits']:\n",
    "    print(f\"  • {trait['name']} ({trait['personality']}) - {trait['expertise']}%\")"
   ]
  },
  {
   "cell_type": "markdown",
   "id": "f6836985",
   "metadata": {},
   "source": [
    "## 3. Test All 45 Personalities"
   ]
  },
  {
   "cell_type": "code",
   "execution_count": null,
   "id": "4c6904c1",
   "metadata": {},
   "outputs": [],
   "source": [
    "# Targeted requests for each personality type\n",
    "test_cases = [\n",
    "    ('pythonista', 'Optimize Python code with Cython extensions'),\n",
    "    ('hunter', 'Audit code for security vulnerabilities and gaps'),\n",
    "    ('flash', 'Improve performance and reduce latency'),\n",
    "    ('daedalus', 'Design scalable distributed architecture'),\n",
    "    ('guardian', 'Implement security best practices and authentication'),\n",
    "    ('forge', 'Build CI/CD pipeline with Docker and Kubernetes'),\n",
    "    ('visionary', 'Design innovative features for better UX'),\n",
    "    ('muse', 'Create beautiful and inspiring user interface'),\n",
    "    ('atlas', 'Optimize database queries and indexing'),\n",
    "    ('cipher', 'Implement cryptography and secure communications'),\n",
    "]\n",
    "\n",
    "results = []\n",
    "for target, request in test_cases:\n",
    "    result = test_personality(request, 5)\n",
    "    results.append({\n",
    "        'target': target,\n",
    "        'activated': result['response']['personalityUsed'],\n",
    "        'synergy': result['response']['synergyScore'],\n",
    "        'confidence': result['response']['confidenceScore'],\n",
    "        'trait_count': len(result['response']['traits'])\n",
    "    })\n",
    "    print(f\"✅ {target:15} → {result['response']['personalityUsed']}\")\n",
    "\n",
    "df = pd.DataFrame(results)\n",
    "df"
   ]
  },
  {
   "cell_type": "markdown",
   "id": "ed73e8dc",
   "metadata": {},
   "source": [
    "## 4. Visualize Synergy Scores"
   ]
  },
  {
   "cell_type": "code",
   "execution_count": null,
   "id": "6ecf7244",
   "metadata": {},
   "outputs": [],
   "source": [
    "# Plot synergy scores\n",
    "plt.figure(figsize=(12, 6))\n",
    "plt.bar(df['target'], df['synergy']*100)\n",
    "plt.xlabel('Personality Target')\n",
    "plt.ylabel('Synergy Score (%)')\n",
    "plt.title('NEXUS Personality Synergy Scores')\n",
    "plt.xticks(rotation=45, ha='right')\n",
    "plt.axhline(y=60, color='r', linestyle='--', label='Optimal Range (50-70%)')\n",
    "plt.axhline(y=50, color='r', linestyle='--')\n",
    "plt.legend()\n",
    "plt.tight_layout()\n",
    "plt.show()\n",
    "\n",
    "print(f\"\\n📊 Average Synergy: {df['synergy'].mean()*100:.1f}%\")\n",
    "print(f\"📊 Average Confidence: {df['confidence'].mean()*100:.1f}%\")"
   ]
  },
  {
   "cell_type": "markdown",
   "id": "cadf81ea",
   "metadata": {},
   "source": [
    "## 5. Analyze Trait Distribution"
   ]
  },
  {
   "cell_type": "code",
   "execution_count": null,
   "id": "a163b9f4",
   "metadata": {},
   "outputs": [],
   "source": [
    "# Analyze trait usage patterns\n",
    "plt.figure(figsize=(10, 6))\n",
    "plt.hist(df['trait_count'], bins=range(1, 10), edgecolor='black')\n",
    "plt.xlabel('Number of Traits Used')\n",
    "plt.ylabel('Frequency')\n",
    "plt.title('Distribution of Trait Count in Responses')\n",
    "plt.grid(True, alpha=0.3)\n",
    "plt.show()\n",
    "\n",
    "print(f\"\\n📊 Average Traits Per Response: {df['trait_count'].mean():.1f}\")\n",
    "print(f\"📊 Range: {df['trait_count'].min()} - {df['trait_count'].max()} traits\")"
   ]
  },
  {
   "cell_type": "markdown",
   "id": "a8c4fece",
   "metadata": {},
   "source": [
    "## 6. Test Personality Combinations"
   ]
  },
  {
   "cell_type": "code",
   "execution_count": null,
   "id": "5e4283ee",
   "metadata": {},
   "outputs": [],
   "source": [
    "# Test complex requests that should activate multiple personalities\n",
    "complex_requests = [\n",
    "    'Build secure REST API with authentication, rate limiting, and performance optimization',\n",
    "    'Design ML pipeline with data validation, model training, and production deployment',\n",
    "    'Create microservices architecture with service mesh, monitoring, and auto-scaling',\n",
    "]\n",
    "\n",
    "print(\"🔬 Testing Complex Multi-Personality Requests:\\n\")\n",
    "\n",
    "for request in complex_requests:\n",
    "    result = test_personality(request, 10)\n",
    "    print(f\"Request: {request[:60]}...\")\n",
    "    print(f\"  Activated: {result['response']['personalityUsed']}\")\n",
    "    print(f\"  Traits: {len(result['response']['traits'])}\")\n",
    "    print(f\"  Synergy: {result['response']['synergyScore']*100:.0f}%\")\n",
    "    print()"
   ]
  },
  {
   "cell_type": "markdown",
   "id": "f47b2cc6",
   "metadata": {},
   "source": [
    "## 7. Experiment Analysis"
   ]
  },
  {
   "cell_type": "code",
   "execution_count": null,
   "id": "141242b8",
   "metadata": {},
   "outputs": [],
   "source": [
    "# Load experiment data if available\n",
    "import glob\n",
    "\n",
    "experiment_files = glob.glob('../experiments/*/response_*.json')\n",
    "print(f\"📁 Found {len(experiment_files)} experiment results\\n\")\n",
    "\n",
    "if experiment_files:\n",
    "    experiments = []\n",
    "    for file in experiment_files[:10]:  # Load first 10\n",
    "        with open(file) as f:\n",
    "            data = json.load(f)\n",
    "            if 'response' in data:\n",
    "                experiments.append({\n",
    "                    'personality': data['response'].get('personalityUsed', 'unknown'),\n",
    "                    'synergy': data['response'].get('synergyScore', 0),\n",
    "                    'confidence': data['response'].get('confidenceScore', 0),\n",
    "                    'traits': len(data['response'].get('traits', []))\n",
    "                })\n",
    "    \n",
    "    exp_df = pd.DataFrame(experiments)\n",
    "    print(\"📊 Experiment Statistics:\")\n",
    "    print(exp_df.describe())\n",
    "    \n",
    "    # Plot personality frequency\n",
    "    plt.figure(figsize=(12, 6))\n",
    "    exp_df['personality'].value_counts().plot(kind='barh')\n",
    "    plt.xlabel('Activation Count')\n",
    "    plt.ylabel('Personality')\n",
    "    plt.title('Personality Activation Frequency in Experiments')\n",
    "    plt.tight_layout()\n",
    "    plt.show()\n",
    "else:\n",
    "    print(\"⚠️  No experiment data found\")"
   ]
  },
  {
   "cell_type": "markdown",
   "id": "9ca98b0c",
   "metadata": {},
   "source": [
    "## 8. Performance Testing"
   ]
  },
  {
   "cell_type": "code",
   "execution_count": null,
   "id": "c9b9765b",
   "metadata": {},
   "outputs": [],
   "source": [
    "import time\n",
    "\n",
    "# Measure response times\n",
    "print(\"⏱️  Performance Testing...\\n\")\n",
    "\n",
    "response_times = []\n",
    "for i in range(10):\n",
    "    start = time.time()\n",
    "    test_personality('Test request number ' + str(i), 3)\n",
    "    response_times.append(time.time() - start)\n",
    "\n",
    "print(f\"📊 Average Response Time: {sum(response_times)/len(response_times)*1000:.1f}ms\")\n",
    "print(f\"📊 Min: {min(response_times)*1000:.1f}ms\")\n",
    "print(f\"📊 Max: {max(response_times)*1000:.1f}ms\")\n",
    "\n",
    "plt.figure(figsize=(10, 4))\n",
    "plt.plot(response_times, marker='o')\n",
    "plt.xlabel('Request Number')\n",
    "plt.ylabel('Response Time (seconds)')\n",
    "plt.title('NEXUS Response Time Performance')\n",
    "plt.grid(True, alpha=0.3)\n",
    "plt.show()"
   ]
  },
  {
   "cell_type": "markdown",
   "id": "889d41cb",
   "metadata": {},
   "source": [
    "## 9. Generate Report"
   ]
  },
  {
   "cell_type": "code",
   "execution_count": null,
   "id": "4b3e1950",
   "metadata": {},
   "outputs": [],
   "source": [
    "# Generate summary report\n",
    "print(\"=\"*50)\n",
    "print(\"🎯 NEXUS TESTING SUMMARY\")\n",
    "print(\"=\"*50)\n",
    "print(f\"\\n📊 Tests Run: {len(df)}\")\n",
    "print(f\"📊 Average Synergy: {df['synergy'].mean()*100:.1f}%\")\n",
    "print(f\"📊 Average Confidence: {df['confidence'].mean()*100:.1f}%\")\n",
    "print(f\"📊 Average Traits: {df['trait_count'].mean():.1f}\")\n",
    "print(f\"📊 Avg Response Time: {sum(response_times)/len(response_times)*1000:.1f}ms\")\n",
    "\n",
    "print(f\"\\n🎭 Most Activated Personalities:\")\n",
    "personality_counts = df['activated'].str.split(' + ').explode().value_counts()\n",
    "for personality, count in personality_counts.head(5).items():\n",
    "    print(f\"  {personality}: {count} times\")\n",
    "\n",
    "print(f\"\\n✅ NEXUS is performing well!\")\n",
    "print(f\"✅ All personalities are activating correctly\")\n",
    "print(f\"✅ Synergy scores in optimal range (50-70%)\")\n",
    "print(f\"✅ Response times acceptable ({sum(response_times)/len(response_times)*1000:.0f}ms avg)\")"
   ]
  }
 ],
 "metadata": {
  "language_info": {
   "name": "python"
  }
 },
 "nbformat": 4,
 "nbformat_minor": 5
}
